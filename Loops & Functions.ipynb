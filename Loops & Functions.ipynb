{
 "cells": [
  {
   "cell_type": "code",
   "execution_count": 1,
   "id": "d9dd2dc7-8066-4fe3-b00e-305ea707812f",
   "metadata": {},
   "outputs": [
    {
     "name": "stdout",
     "output_type": "stream",
     "text": [
      "Hello, world!\n",
      "Good morning!\n",
      "The number is positive.\n",
      "The string is empty.\n",
      "The string is not empty.\n"
     ]
    }
   ],
   "source": [
    "# CHAPTER NO 7 If statements\n",
    "# Write an if statement that prints \"Hello, world!\" if a variable greeting is set to True.\n",
    "greeting = True\n",
    "if greeting:\n",
    "    print(\"Hello, world!\")\n",
    "\n",
    "# Write an if-else statement that prints \"Good morning!\" if the variable time_of_day is \"morning\" and \"Good evening!\" otherwise.\n",
    "time_of_day = \"morning\"\n",
    "if time_of_day == \"morning\":\n",
    "    print(\"Good morning!\")\n",
    "else:\n",
    "    print(\"Good evening!\")\n",
    "\n",
    "# Write an if-elif-else statement to check if a number is positive, negative, or zero.\n",
    "number = 10\n",
    "if number > 0:\n",
    "    print(\"The number is positive.\")\n",
    "elif number < 0:\n",
    "    print(\"The number is negative.\")\n",
    "else:\n",
    "    print(\"The number is zero.\")\n",
    "\n",
    "# Write an if statement that checks if a string is empty and prints a message if it is.\n",
    "text = \"\"\n",
    "if not text:\n",
    "    print(\"The string is empty.\")\n",
    "\n",
    "# Modify the previous program to include an else clause that prints a different message if the string is not empty.\n",
    "text = \"Hello!\"\n",
    "if not text:\n",
    "    print(\"The string is empty.\")\n",
    "else:\n",
    "    print(\"The string is not empty.\")\n"
   ]
  },
  {
   "cell_type": "code",
   "execution_count": 3,
   "id": "7ba6bd94-10ce-48bc-b8f6-671d93062279",
   "metadata": {},
   "outputs": [
    {
     "name": "stdout",
     "output_type": "stream",
     "text": [
      "1\n",
      "2\n",
      "3\n",
      "4\n",
      "5\n",
      "2\n",
      "4\n",
      "6\n",
      "8\n",
      "10\n"
     ]
    },
    {
     "name": "stdin",
     "output_type": "stream",
     "text": [
      "Enter something (type 'stop' to end):  stop\n"
     ]
    },
    {
     "name": "stdout",
     "output_type": "stream",
     "text": [
      "The square of 1 is 1\n",
      "The square of 2 is 4\n",
      "The square of 3 is 9\n",
      "The square of 4 is 16\n",
      "The square of 5 is 25\n",
      "The sum of numbers from 1 to 10 is: 55\n"
     ]
    }
   ],
   "source": [
    "# CHAPTER NO 8 While Loops\n",
    "# Write a while loop that prints numbers from 1 to 5.\n",
    "num = 1\n",
    "while num <= 5:\n",
    "    print(num)\n",
    "    num += 1\n",
    "\n",
    "# Modify the loop to print only even numbers from 1 to 10.\n",
    "num = 1\n",
    "while num <= 10:\n",
    "    if num % 2 == 0:\n",
    "        print(num)\n",
    "    num += 1\n",
    "\n",
    "# Write a while loop that continues to ask the user for input until they type \"stop\".\n",
    "user_input = \"\"\n",
    "while user_input.lower() != \"stop\":\n",
    "    user_input = input(\"Enter something (type 'stop' to end): \")\n",
    "    if user_input.lower() != \"stop\":\n",
    "        print(\"You entered:\", user_input)\n",
    "\n",
    "# Create a while loop that prints the squares of numbers from 1 to 5.\n",
    "num = 1\n",
    "while num <= 5:\n",
    "    print(f\"The square of {num} is {num**2}\")\n",
    "    num += 1\n",
    "\n",
    "# Write a program using a while loop that sums numbers from 1 to 10 and prints the total.\n",
    "num = 1\n",
    "total_sum = 0\n",
    "while num <= 10:\n",
    "    total_sum += num\n",
    "    num += 1\n",
    "print(\"The sum of numbers from 1 to 10 is:\", total_sum)"
   ]
  },
  {
   "cell_type": "code",
   "execution_count": 4,
   "id": "51770420-a396-4097-a862-c556c9944ea1",
   "metadata": {},
   "outputs": [
    {
     "name": "stdout",
     "output_type": "stream",
     "text": [
      "H\n",
      "e\n",
      "l\n",
      "l\n",
      "o\n",
      ",\n",
      " \n",
      "W\n",
      "o\n",
      "r\n",
      "l\n",
      "d\n",
      "!\n",
      "\n",
      "1\n",
      "2\n",
      "3\n",
      "4\n",
      "5\n",
      "6\n",
      "7\n",
      "8\n",
      "9\n",
      "10\n",
      "\n",
      "10\n",
      "9\n",
      "8\n",
      "7\n",
      "6\n",
      "5\n",
      "4\n",
      "3\n",
      "2\n",
      "1\n",
      "\n",
      "1\n",
      "2\n",
      "3\n",
      "4\n",
      "5\n",
      "\n",
      "1\n",
      "4\n",
      "9\n",
      "16\n",
      "25\n",
      "36\n",
      "49\n",
      "64\n",
      "81\n",
      "100\n"
     ]
    }
   ],
   "source": [
    "#CHAPTER NO 9 FOR LOOPS\n",
    "# For loop that prints each character in a string\n",
    "my_string = \"Hello, World!\"\n",
    "for char in my_string:\n",
    "    print(char)\n",
    "\n",
    "print()  # Just to add a blank line for better readability\n",
    "\n",
    "# For loop that prints the numbers 1 to 10\n",
    "for i in range(1, 11):\n",
    "    print(i)\n",
    "\n",
    "print()  # Just to add a blank line for better readability\n",
    "\n",
    "# For loop that prints the numbers 1 to 10 in reverse order\n",
    "for i in range(10, 0, -1):\n",
    "    print(i)\n",
    "\n",
    "print()  # Just to add a blank line for better readability\n",
    "\n",
    "# For loop that iterates over a list and prints each item\n",
    "my_list = [1, 2, 3, 4, 5]\n",
    "for item in my_list:\n",
    "    print(item)\n",
    "\n",
    "print()  # Just to add a blank line for better readability\n",
    "\n",
    "# For loop that prints the squares of numbers from 1 to 10\n",
    "for i in range(1, 11):\n",
    "    print(i ** 2)"
   ]
  },
  {
   "cell_type": "code",
   "execution_count": 1,
   "id": "94b39e52-8a22-44fa-896b-5756729d579a",
   "metadata": {},
   "outputs": [
    {
     "name": "stdout",
     "output_type": "stream",
     "text": [
      "Hello, world!\n",
      "Hello, {name}!\n",
      "8\n",
      "1\n",
      "2\n",
      "3\n",
      "4\n",
      "5\n",
      "5\n"
     ]
    }
   ],
   "source": [
    "# CHAPTER NO 10 FUNCTIONS\n",
    "# Function that prints \"Hello, world!\"\n",
    "def print_hello_world():\n",
    "    print(\"Hello, world!\")\n",
    "\n",
    "# Function that takes a name as an argument and prints a greeting\n",
    "def greet(name):\n",
    "    print(\"Hello, {name}!\")\n",
    "\n",
    "# Function that takes two numbers as arguments and returns their sum\n",
    "def add_numbers(num1, num2):\n",
    "    return num1 + num2\n",
    "\n",
    "# Function that takes a list as an argument and prints each item\n",
    "def print_list_items(my_list):\n",
    "    for item in my_list:\n",
    "        print(item)\n",
    "\n",
    "# Function that returns the length of a string passed to it as an argument\n",
    "def string_length(my_string):\n",
    "    return len(my_string)\n",
    "\n",
    "print_hello_world()\n",
    "greet(\"Alice\")\n",
    "print(add_numbers(3, 5))\n",
    "print_list_items([1, 2, 3, 4, 5])\n",
    "print(string_length(\"Hello\"))"
   ]
  },
  {
   "cell_type": "code",
   "execution_count": null,
   "id": "2b571b21-b73c-4797-92f1-317f540cb3e6",
   "metadata": {},
   "outputs": [],
   "source": []
  }
 ],
 "metadata": {
  "kernelspec": {
   "display_name": "Python 3 (ipykernel)",
   "language": "python",
   "name": "python3"
  },
  "language_info": {
   "codemirror_mode": {
    "name": "ipython",
    "version": 3
   },
   "file_extension": ".py",
   "mimetype": "text/x-python",
   "name": "python",
   "nbconvert_exporter": "python",
   "pygments_lexer": "ipython3",
   "version": "3.11.7"
  }
 },
 "nbformat": 4,
 "nbformat_minor": 5
}
