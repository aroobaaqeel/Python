{
 "cells": [
  {
   "cell_type": "code",
   "execution_count": 17,
   "id": "52e215c7-059c-47db-8aa3-d0281126d0b6",
   "metadata": {},
   "outputs": [
    {
     "name": "stdout",
     "output_type": "stream",
     "text": [
      "Arooba Aqeel\n",
      "AROOBA\n",
      "Name: Arooba Aqeel\n",
      "Age: 22\n",
      "Sum of 5 and 10 is: 15\n",
      "Python 101 3.14\n"
     ]
    }
   ],
   "source": [
    "#CHAPTER NO 1 : Print\n",
    "# Print your name\n",
    "print(\"Arooba Aqeel\")\n",
    "\n",
    "# Modify the program to print your name in uppercase letters\n",
    "print(\"Arooba\".upper())\n",
    "\n",
    "# Print your name and age\n",
    "name = \"Arooba Aqeel\"\n",
    "age = 22\n",
    "print(\"Name:\", name)\n",
    "print(\"Age:\", age)\n",
    "\n",
    "# Modify the program to print the sum of two numbers you choose\n",
    "number1 = 5\n",
    "number2 = 10\n",
    "print(\"Sum of\", number1, \"and\", number2, \"is:\", number1 + number2)\n",
    "\n",
    "# Print a string, an integer, and a float all on the same line\n",
    "string = \"Python\"\n",
    "integer = 101\n",
    "floating = 3.14\n",
    "print(string, integer, floating)\n"
   ]
  },
  {
   "cell_type": "code",
   "execution_count": 16,
   "id": "e4e9e29f-96e2-4b21-8b13-d99ca2e1d0b6",
   "metadata": {},
   "outputs": [
    {
     "name": "stdout",
     "output_type": "stream",
     "text": [
      "Arooba Aqeel\n",
      "I am 30 years old.\n",
      "It is True that I am a student.\n",
      "Next year, I will be 21 years old.\n"
     ]
    }
   ],
   "source": [
    "#CHAPTER NO 2 : Variables\n",
    "# Create a variable called name and assign it your name. Print the variable.\n",
    "name = \"Arooba Aqeel\"\n",
    "print(name)\n",
    "\n",
    "# Create a variable age and assign it your age. Print a sentence that includes your age.\n",
    "age = 30\n",
    "print(\"I am \" + str(age) + \" years old.\")\n",
    "\n",
    "# Create a variable is_student and set it to True or False. Print a sentence that includes this variable.\n",
    "is_student = True\n",
    "print(\"It is \" + str(is_student) + \" that I am a student.\")\n",
    "\n",
    "# Modify the age variable to a different value and print the updated age.\n",
    "age = 21\n",
    "print(\"Next year, I will be \" + str(age) + \" years old.\")\n"
   ]
  },
  {
   "cell_type": "code",
   "execution_count": 15,
   "id": "d4125d81-5a81-4e71-a1b6-5651731ad1c7",
   "metadata": {},
   "outputs": [
    {
     "name": "stdout",
     "output_type": "stream",
     "text": [
      "Hello, World!\n",
      "The length of the greeting is: 13\n",
      "Hello, Python!\n",
      "HELLO, WORLD!\n",
      "!dlroW ,olleH\n"
     ]
    }
   ],
   "source": [
    "#CHAPTER NO 3 : Strings\n",
    "# Assign a string to a variable and print it.\n",
    "greeting = \"Hello, World!\"\n",
    "print(greeting)\n",
    "\n",
    "# Print the length of a string assigned to a variable.\n",
    "length_of_greeting = len(greeting)\n",
    "print(\"The length of the greeting is:\", length_of_greeting)\n",
    "\n",
    "# Concatenate two strings and print the result.\n",
    "part1 = \"Hello\"\n",
    "part2 = \"Python\"\n",
    "concatenated_string = part1 + \", \" + part2 + \"!\"\n",
    "print(concatenated_string)\n",
    "\n",
    "# Print a string in all uppercase letters.\n",
    "uppercase_greeting = greeting.upper()\n",
    "print(uppercase_greeting)\n",
    "\n",
    "# Print a string in reverse order.\n",
    "reversed_greeting = greeting[::-1]\n",
    "print(reversed_greeting)\n"
   ]
  },
  {
   "cell_type": "code",
   "execution_count": 14,
   "id": "364b89a1-1729-4be5-9d30-d62b55081469",
   "metadata": {},
   "outputs": [
    {
     "name": "stdout",
     "output_type": "stream",
     "text": [
      "The sum of 8 and 5 is: 13\n",
      "The result of dividing 8 by 5 is: 1.6\n",
      "8 raised to the power of 5 is: 32768\n",
      "The value of the float variable is: 3.14\n",
      "The integer division of 8 by 5 is: 1\n"
     ]
    }
   ],
   "source": [
    "#CHAPTER NO 4: Numbers and Arithmetic\n",
    "# Assign two numbers to variables and print their sum.\n",
    "num1 = 8\n",
    "num2 = 5\n",
    "sum_result = num1 + num2\n",
    "print(\"The sum of\", num1, \"and\", num2, \"is:\", sum_result)\n",
    "\n",
    "# Print the result of dividing one number by another.\n",
    "division_result = num1 / num2\n",
    "print(\"The result of dividing\", num1, \"by\", num2, \"is:\", division_result)\n",
    "\n",
    "# Print the result of raising a number to the power of another number.\n",
    "power_result = num1 ** num2\n",
    "print(num1, \"raised to the power of\", num2, \"is:\", power_result)\n",
    "\n",
    "# Assign a float to a variable and print it.\n",
    "float_num = 3.14\n",
    "print(\"The value of the float variable is:\", float_num)\n",
    "\n",
    "# Print the integer division of two numbers.\n",
    "integer_division_result = num1 // num2\n",
    "print(\"The integer division of\", num1, \"by\", num2, \"is:\", integer_division_result)\n"
   ]
  },
  {
   "cell_type": "code",
   "execution_count": 13,
   "id": "a1025e6e-65df-43cb-9375-633bd14260a1",
   "metadata": {},
   "outputs": [
    {
     "name": "stdout",
     "output_type": "stream",
     "text": [
      "My favorite fruits are: ['apple', 'banana', 'cherry']\n",
      "The second item in the list is: banana\n",
      "Updated list of favorite fruits: ['apple', 'banana', 'cherry', 'orange']\n",
      "List after removing the first fruit: ['banana', 'cherry', 'orange']\n",
      "The length of the list is: 3\n"
     ]
    }
   ],
   "source": [
    "# CHAPTER NO 5: LISTS\n",
    "# Create a list of your three favorite fruits and print it.\n",
    "favorite_fruits = [\"apple\", \"banana\", \"cherry\"]\n",
    "print(\"My favorite fruits are:\", favorite_fruits)\n",
    "\n",
    "# Print the second item in your list.\n",
    "second_fruit = favorite_fruits[1]\n",
    "print(\"The second item in the list is:\", second_fruit)\n",
    "\n",
    "# Add a new fruit to your list and print the updated list.\n",
    "favorite_fruits.append(\"orange\")\n",
    "print(\"Updated list of favorite fruits:\", favorite_fruits)\n",
    "\n",
    "# Remove the first fruit from your list and print the updated list.\n",
    "favorite_fruits.pop(0)\n",
    "print(\"List after removing the first fruit:\", favorite_fruits)\n",
    "\n",
    "# Print the length of your list.\n",
    "list_length = len(favorite_fruits)\n",
    "print(\"The length of the list is:\", list_length)\n"
   ]
  },
  {
   "cell_type": "code",
   "execution_count": 18,
   "id": "5b533a3d-5dc6-4a86-84f3-d16fe0d8d3ef",
   "metadata": {},
   "outputs": [
    {
     "name": "stdout",
     "output_type": "stream",
     "text": [
      "Dictionary: {'first_name': 'Arooba', 'last_name': 'Aqeel', 'age': 21}\n",
      "First name: Arooba\n",
      "Updated dictionary: {'first_name': 'Arooba', 'last_name': 'Aqeel', 'age': 21, 'city': 'New York'}\n",
      "Dictionary after removing age: {'first_name': 'Arooba', 'last_name': 'Aqeel', 'city': 'New York'}\n",
      "All keys and values in the dictionary:\n",
      "first_name: Arooba\n",
      "last_name: Aqeel\n",
      "city: New York\n"
     ]
    }
   ],
   "source": [
    "# CHAPTER NO: 6  Dictionaries\n",
    "#Create a dictionary with keys for first_name, last_name, and age. Print the dictionary.\n",
    "person_info = {\n",
    "    \"first_name\": \"Arooba\",\n",
    "    \"last_name\": \"Aqeel\",\n",
    "    \"age\": 21\n",
    "}\n",
    "print(\"Dictionary:\", person_info)\n",
    "\n",
    "# Task 2: Print the value of the first_name key from your dictionary.\n",
    "first_name_value = person_info[\"first_name\"]\n",
    "print(\"First name:\", first_name_value)\n",
    "\n",
    "# Task 3: Add a new key-value pair for city to your dictionary and print the updated dictionary.\n",
    "person_info[\"city\"] = \"New York\"\n",
    "print(\"Updated dictionary:\", person_info)\n",
    "\n",
    "# Task 4: Remove the age key from your dictionary and print the updated dictionary.\n",
    "del person_info[\"age\"]\n",
    "print(\"Dictionary after removing age:\", person_info)\n",
    "\n",
    "# Task 5: Print all the keys and values in your dictionary.\n",
    "print(\"All keys and values in the dictionary:\")\n",
    "for key, value in person_info.items():\n",
    "    print(key + \":\", value)\n"
   ]
  },
  {
   "cell_type": "code",
   "execution_count": null,
   "id": "ca15e31d-5544-4ac7-9664-99cefd2a2854",
   "metadata": {},
   "outputs": [],
   "source": []
  }
 ],
 "metadata": {
  "kernelspec": {
   "display_name": "Python 3 (ipykernel)",
   "language": "python",
   "name": "python3"
  },
  "language_info": {
   "codemirror_mode": {
    "name": "ipython",
    "version": 3
   },
   "file_extension": ".py",
   "mimetype": "text/x-python",
   "name": "python",
   "nbconvert_exporter": "python",
   "pygments_lexer": "ipython3",
   "version": "3.11.7"
  }
 },
 "nbformat": 4,
 "nbformat_minor": 5
}
